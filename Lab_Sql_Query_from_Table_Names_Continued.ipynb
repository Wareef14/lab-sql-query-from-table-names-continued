{
  "cells": [
    {
      "cell_type": "markdown",
      "id": "7d930c89-4954-4e39-be5a-601c1dd89512",
      "metadata": {
        "id": "7d930c89-4954-4e39-be5a-601c1dd89512"
      },
      "source": [
        "# SQL query from table names - Continued"
      ]
    },
    {
      "cell_type": "code",
      "source": [
        "# Step 1: Install the required packages\n",
        "!pip install python-dotenv  # Installs python-dotenv for loading .env\n",
        "!pip install openai         # Installs the OpenAI library\n",
        "\n",
        "# Step 2: Import necessary libraries\n",
        "import os\n",
        "from openai import OpenAI\n",
        "from dotenv import load_dotenv"
      ],
      "metadata": {
        "colab": {
          "base_uri": "https://localhost:8080/"
        },
        "id": "zq9h1kOXtp7s",
        "outputId": "b3a636e9-7495-4d9e-c55e-a2cfcdf868b8"
      },
      "id": "zq9h1kOXtp7s",
      "execution_count": 1,
      "outputs": [
        {
          "output_type": "stream",
          "name": "stdout",
          "text": [
            "Collecting python-dotenv\n",
            "  Downloading python_dotenv-1.1.0-py3-none-any.whl.metadata (24 kB)\n",
            "Downloading python_dotenv-1.1.0-py3-none-any.whl (20 kB)\n",
            "Installing collected packages: python-dotenv\n",
            "Successfully installed python-dotenv-1.1.0\n",
            "Requirement already satisfied: openai in /usr/local/lib/python3.11/dist-packages (1.68.2)\n",
            "Requirement already satisfied: anyio<5,>=3.5.0 in /usr/local/lib/python3.11/dist-packages (from openai) (4.9.0)\n",
            "Requirement already satisfied: distro<2,>=1.7.0 in /usr/local/lib/python3.11/dist-packages (from openai) (1.9.0)\n",
            "Requirement already satisfied: httpx<1,>=0.23.0 in /usr/local/lib/python3.11/dist-packages (from openai) (0.28.1)\n",
            "Requirement already satisfied: jiter<1,>=0.4.0 in /usr/local/lib/python3.11/dist-packages (from openai) (0.9.0)\n",
            "Requirement already satisfied: pydantic<3,>=1.9.0 in /usr/local/lib/python3.11/dist-packages (from openai) (2.10.6)\n",
            "Requirement already satisfied: sniffio in /usr/local/lib/python3.11/dist-packages (from openai) (1.3.1)\n",
            "Requirement already satisfied: tqdm>4 in /usr/local/lib/python3.11/dist-packages (from openai) (4.67.1)\n",
            "Requirement already satisfied: typing-extensions<5,>=4.11 in /usr/local/lib/python3.11/dist-packages (from openai) (4.12.2)\n",
            "Requirement already satisfied: idna>=2.8 in /usr/local/lib/python3.11/dist-packages (from anyio<5,>=3.5.0->openai) (3.10)\n",
            "Requirement already satisfied: certifi in /usr/local/lib/python3.11/dist-packages (from httpx<1,>=0.23.0->openai) (2025.1.31)\n",
            "Requirement already satisfied: httpcore==1.* in /usr/local/lib/python3.11/dist-packages (from httpx<1,>=0.23.0->openai) (1.0.7)\n",
            "Requirement already satisfied: h11<0.15,>=0.13 in /usr/local/lib/python3.11/dist-packages (from httpcore==1.*->httpx<1,>=0.23.0->openai) (0.14.0)\n",
            "Requirement already satisfied: annotated-types>=0.6.0 in /usr/local/lib/python3.11/dist-packages (from pydantic<3,>=1.9.0->openai) (0.7.0)\n",
            "Requirement already satisfied: pydantic-core==2.27.2 in /usr/local/lib/python3.11/dist-packages (from pydantic<3,>=1.9.0->openai) (2.27.2)\n"
          ]
        }
      ]
    },
    {
      "cell_type": "code",
      "source": [
        "_ = load_dotenv(\"/content/env\") # read local .env file\n",
        "\n",
        "OPENAI_API_KEY  = os.getenv('OPENAI_API_KEY')"
      ],
      "metadata": {
        "id": "TnmhXXh4tttK"
      },
      "id": "TnmhXXh4tttK",
      "execution_count": 2,
      "outputs": []
    },
    {
      "cell_type": "markdown",
      "id": "53a05b80-88fd-42b2-ba89-763074ae74e9",
      "metadata": {
        "id": "53a05b80-88fd-42b2-ba89-763074ae74e9"
      },
      "source": [
        "## The old Prompt"
      ]
    },
    {
      "cell_type": "code",
      "execution_count": 3,
      "id": "922f8d24",
      "metadata": {
        "id": "922f8d24"
      },
      "outputs": [],
      "source": [
        "#The old prompt\n",
        "old_context = [ {'role':'system', 'content':\"\"\"\n",
        "you are a bot to assist in create SQL commands, all your answers should start with \\\n",
        "this is your SQL, and after that an SQL that can do what the user request. \\\n",
        "Your Database is composed by a SQL database with some tables. \\\n",
        "Try to maintain the SQL order simple.\n",
        "Put the SQL command in white letters with a black background, and just after \\\n",
        "a simple and concise text explaining how it works.\n",
        "If the user ask for something that can not be solved with an SQL Order \\\n",
        "just answer something nice and simple, maximum 10 words, asking him for something that \\\n",
        "can be solved with SQL.\n",
        "\"\"\"} ]\n",
        "\n",
        "old_context.append( {'role':'system', 'content':\"\"\"\n",
        "first table:\n",
        "{\n",
        "  \"tableName\": \"employees\",\n",
        "  \"fields\": [\n",
        "    {\n",
        "      \"nombre\": \"ID_usr\",\n",
        "      \"tipo\": \"int\"\n",
        "    },\n",
        "    {\n",
        "      \"nombre\": \"name\",\n",
        "      \"tipo\": \"varchar\"\n",
        "    }\n",
        "  ]\n",
        "}\n",
        "\"\"\"\n",
        "})\n",
        "\n",
        "old_context.append( {'role':'system', 'content':\"\"\"\n",
        "second table:\n",
        "{\n",
        "  \"tableName\": \"salary\",\n",
        "  \"fields\": [\n",
        "    {\n",
        "      \"nombre\": \"ID_usr\",\n",
        "      \"type\": \"int\"\n",
        "    },\n",
        "    {\n",
        "      \"name\": \"year\",\n",
        "      \"type\": \"date\"\n",
        "    },\n",
        "    {\n",
        "      \"name\": \"salary\",\n",
        "      \"type\": \"float\"\n",
        "    }\n",
        "  ]\n",
        "}\n",
        "\"\"\"\n",
        "})\n",
        "\n",
        "old_context.append( {'role':'system', 'content':\"\"\"\n",
        "third table:\n",
        "{\n",
        "  \"tablename\": \"studies\",\n",
        "  \"fields\": [\n",
        "    {\n",
        "      \"name\": \"ID\",\n",
        "      \"type\": \"int\"\n",
        "    },\n",
        "    {\n",
        "      \"name\": \"ID_usr\",\n",
        "      \"type\": \"int\"\n",
        "    },\n",
        "    {\n",
        "      \"name\": \"educational_level\",\n",
        "      \"type\": \"int\"\n",
        "    },\n",
        "    {\n",
        "      \"name\": \"Institution\",\n",
        "      \"type\": \"varchar\"\n",
        "    },\n",
        "    {\n",
        "      \"name\": \"Years\",\n",
        "      \"type\": \"date\"\n",
        "    }\n",
        "    {\n",
        "      \"name\": \"Speciality\",\n",
        "      \"type\": \"varchar\"\n",
        "    }\n",
        "  ]\n",
        "}\n",
        "\"\"\"\n",
        "})"
      ]
    },
    {
      "cell_type": "markdown",
      "id": "377acaae-7dd0-4d13-bc68-9e33741c231c",
      "metadata": {
        "id": "377acaae-7dd0-4d13-bc68-9e33741c231c"
      },
      "source": [
        "## New Prompt.\n",
        "We are going to improve it following the instructions of a Paper from the Ohaio University: [How to Prompt LLMs for Text-to-SQL: A Study in Zero-shot, Single-domain, and Cross-domain Settings](https://arxiv.org/abs/2305.11853). I recommend you read that paper.\n",
        "\n",
        "For each table, we will define the structure using the same syntax as in a SQL create table command, and add the sample rows of the content.\n",
        "\n",
        "Finally, at the end of the prompt, we'll include some example queries with the SQL that the model should generate. This technique is called Few-Shot Samples, in which we provide the prompt with some examples to assist it in generating the correct SQL.\n"
      ]
    },
    {
      "cell_type": "code",
      "execution_count": 5,
      "id": "5334f942",
      "metadata": {
        "id": "5334f942"
      },
      "outputs": [],
      "source": [
        "context = [ {'role':'system', 'content':\"\"\"\n",
        "\n",
        " You are an SQL assistant. Generate SQLite-compatible SQL queries based on user requests.\n",
        "        Here is the database schema:\n",
        "-- Table: employees\n",
        "CREATE TABLE employees (\n",
        "    ID_usr INT PRIMARY KEY,  -- Unique ID for each employee\n",
        "    name TEXT,                -- Name of the employee\n",
        "    department TEXT,          -- Department where the employee works\n",
        "    hire_date DATE,           -- Date when the employee joined the company\n",
        "    email TEXT,               -- Employee's email address\n",
        "    phone TEXT                -- Employee's phone number\n",
        ");\n",
        "\n",
        "INSERT INTO employees VALUES\n",
        "(1, 'Alice', 'HR', '2015-06-10', 'alice@example.com', '555-1234'),\n",
        "(2, 'Bob', 'Engineering', '2018-09-22', 'bob@example.com', '555-5678'),\n",
        "(3, 'Charlie', 'Sales', '2020-01-15', 'charlie@example.com', '555-9876'),\n",
        "(4, 'Diana', 'Marketing', '2019-05-30', 'diana@example.com', '555-2468');\n",
        "\n",
        "-- Table: salary\n",
        "CREATE TABLE salary (\n",
        "    ID_usr INT,              -- Employee ID from the employees table\n",
        "    year INT,                -- Year of salary information\n",
        "    base FLOAT,              -- Base salary of the employee\n",
        "    bonus FLOAT,             -- Bonus given to the employee\n",
        "    FOREIGN KEY (ID_usr) REFERENCES employees(ID_usr)  -- Links salary to employee\n",
        ");\n",
        "\n",
        "INSERT INTO salary VALUES\n",
        "(1, 2022, 50000, 1000),\n",
        "(2, 2022, 70000, 3000),\n",
        "(3, 2022, 60000, 1500),\n",
        "(4, 2022, 65000, 1200);\n",
        "\n",
        "-- Table: studies\n",
        "CREATE TABLE studies (\n",
        "    ID INT PRIMARY KEY,      -- Unique ID for each study record\n",
        "    ID_usr INT,              -- Employee ID linking to the employees table\n",
        "    degree TEXT,             -- Degree earned by the employee\n",
        "    institution TEXT,        -- Institution where the degree was obtained\n",
        "    graduation_year INT,     -- Year the employee graduated\n",
        "    major TEXT,              -- Major or field of study\n",
        "    FOREIGN KEY (ID_usr) REFERENCES employees(ID_usr)  -- Links studies to employee\n",
        ");\n",
        "\n",
        "INSERT INTO studies VALUES\n",
        "(1, 1, 'BA', 'State University', 2012, 'Human Resources'),\n",
        "(2, 2, 'MSc', 'Tech Institute', 2017, 'Software Engineering'),\n",
        "(3, 3, 'PhD', 'Ivy College', 2019, 'Marketing Research'),\n",
        "(4, 4, 'MBA', 'Business School', 2018, 'Business Administration');\n",
        "\n",
        "\"\"\"} ]"
      ]
    },
    {
      "cell_type": "code",
      "execution_count": 6,
      "id": "330e69b0-3f5f-4bb2-8185-aedded2bb993",
      "metadata": {
        "id": "330e69b0-3f5f-4bb2-8185-aedded2bb993"
      },
      "outputs": [],
      "source": [
        "# FEW SHOT SAMPLES\n",
        "context.append( {'role':'system', 'content':\"\"\"\n",
        " -- Maintain the SQL order simple and efficient as you can, using valid SQL Lite, answer the following questions for the table provided above.\n",
        "\n",
        "-- Q1: Retrieve all employees and their base salary.\n",
        "-- This query retrieves the names of all employees along with their base salary\n",
        "-- by joining the 'employees' and 'salary' tables using 'ID_usr'.\n",
        "-- A:\n",
        "SELECT employees.name, salary.base\n",
        "FROM employees\n",
        "JOIN salary ON employees.ID_usr = salary.ID_usr;\n",
        "\n",
        "-- Q2: Find employees who have an MBA degree.\n",
        "-- This query finds the employees who hold an MBA degree by joining the\n",
        "-- 'employees' and 'studies' tables, filtering by the degree 'MBA'.\n",
        "-- A:\n",
        "SELECT employees.name\n",
        "FROM employees\n",
        "JOIN studies ON employees.ID_usr = studies.ID_usr\n",
        "WHERE studies.degree = 'MBA';\n",
        "\n",
        "-- Q3: Show the employees' total compensation (base salary + bonus).\n",
        "-- This query calculates the total compensation for each employee by adding\n",
        "-- the base salary and bonus, and displays the employee names and total compensation.\n",
        "-- A:\n",
        "SELECT employees.name, (salary.base + salary.bonus) AS total_compensation\n",
        "FROM employees\n",
        "JOIN salary ON employees.ID_usr = salary.ID_usr;\n",
        "\n",
        "-- Q4: Find all employees who joined after 2018 and have a bonus greater than 1000.\n",
        "-- This query retrieves the names of employees who joined after January 1, 2018\n",
        "-- and have a bonus greater than 1000 by filtering the 'employees' and 'salary' tables.\n",
        "-- A:\n",
        "SELECT employees.name\n",
        "FROM employees\n",
        "JOIN salary ON employees.ID_usr = salary.ID_usr\n",
        "WHERE employees.hire_date > '2018-01-01' AND salary.bonus > 1000;\n",
        "\n",
        "-- Q5: List all employees and their major subjects from the studies table.\n",
        "-- This query retrieves the names of employees along with their major field of study\n",
        "-- by joining the 'employees' and 'studies' tables.\n",
        "-- A:\n",
        "SELECT employees.name, studies.major\n",
        "FROM employees\n",
        "JOIN studies ON employees.ID_usr = studies.ID_usr;\n",
        "\"\"\"\n",
        "})"
      ]
    },
    {
      "cell_type": "code",
      "execution_count": 7,
      "id": "b90f417a",
      "metadata": {
        "id": "b90f417a"
      },
      "outputs": [],
      "source": [
        "#Functio to call the model.\n",
        "def return_CCRMSQL(user_message, context):\n",
        "    client = OpenAI(\n",
        "    # This is the default and can be omitted\n",
        "    api_key=OPENAI_API_KEY,\n",
        ")\n",
        "\n",
        "    newcontext = context.copy()\n",
        "    newcontext.append({'role':'user', 'content':\"question: \" + user_message})\n",
        "\n",
        "    response = client.chat.completions.create(\n",
        "            model=\"gpt-3.5-turbo\",\n",
        "            messages=newcontext,\n",
        "            temperature=0,\n",
        "        )\n",
        "\n",
        "    return (response.choices[0].message.content)"
      ]
    },
    {
      "cell_type": "markdown",
      "id": "9e0a4c11-dfe1-46fe-ac2b-3ff825f9749c",
      "metadata": {
        "id": "9e0a4c11-dfe1-46fe-ac2b-3ff825f9749c"
      },
      "source": [
        "## NL2SQL Samples\n",
        "We're going to review some examples generated with the old prompt and others with the new prompt."
      ]
    },
    {
      "cell_type": "markdown",
      "source": [
        "#**Q1: Retrieve all employees and their base salary.**"
      ],
      "metadata": {
        "id": "mnaPWu1M8kjj"
      },
      "id": "mnaPWu1M8kjj"
    },
    {
      "cell_type": "markdown",
      "source": [
        "## Q1 with Old Prompt"
      ],
      "metadata": {
        "id": "GbcZ37FS83h-"
      },
      "id": "GbcZ37FS83h-"
    },
    {
      "cell_type": "code",
      "source": [
        "#old\n",
        "old_context_user = old_context.copy()\n",
        "print(return_CCRMSQL(\"Retrieve all employees and their base salary.\", old_context_user))"
      ],
      "metadata": {
        "colab": {
          "base_uri": "https://localhost:8080/"
        },
        "id": "ndUovnGQ8ycy",
        "outputId": "560a150a-6858-4bc3-fdf3-7cc29f1fe8ce"
      },
      "id": "ndUovnGQ8ycy",
      "execution_count": 9,
      "outputs": [
        {
          "output_type": "stream",
          "name": "stdout",
          "text": [
            "This is your SQL:\n",
            "```sql\n",
            "SELECT employees.name, salary.salary\n",
            "FROM employees\n",
            "JOIN salary ON employees.ID_usr = salary.ID_usr;\n",
            "```\n",
            "\n",
            "This SQL query retrieves the names of all employees along with their base salary by joining the \"employees\" table with the \"salary\" table on the common column \"ID_usr\".\n"
          ]
        }
      ]
    },
    {
      "cell_type": "markdown",
      "source": [
        "##Q1 with New Prompt."
      ],
      "metadata": {
        "id": "t9s51LOj-R1G"
      },
      "id": "t9s51LOj-R1G"
    },
    {
      "cell_type": "code",
      "execution_count": 10,
      "id": "59e8202c-ce34-487e-9037-c65a263423ed",
      "metadata": {
        "colab": {
          "base_uri": "https://localhost:8080/"
        },
        "id": "59e8202c-ce34-487e-9037-c65a263423ed",
        "outputId": "54b115bf-0cbc-4856-fc48-b0465bed83e2"
      },
      "outputs": [
        {
          "output_type": "stream",
          "name": "stdout",
          "text": [
            "```sql\n",
            "SELECT employees.name, salary.base \n",
            "FROM employees \n",
            "JOIN salary ON employees.ID_usr = salary.ID_usr;\n",
            "```\n"
          ]
        }
      ],
      "source": [
        "#new\n",
        "context_user = context.copy()\n",
        "print(return_CCRMSQL(\"Retrieve all employees and their base salary.\", context_user))"
      ]
    },
    {
      "cell_type": "markdown",
      "source": [
        "#**Q2: Find employees who have an MBA degree.**"
      ],
      "metadata": {
        "id": "rmOtht59BQ7V"
      },
      "id": "rmOtht59BQ7V"
    },
    {
      "cell_type": "markdown",
      "source": [
        "#Q2 with Old Prompt"
      ],
      "metadata": {
        "id": "lRi-ywu9_2xA"
      },
      "id": "lRi-ywu9_2xA"
    },
    {
      "cell_type": "code",
      "execution_count": 12,
      "id": "9c4766b1-48a9-456e-bc6c-4b6f41909aa4",
      "metadata": {
        "colab": {
          "base_uri": "https://localhost:8080/"
        },
        "id": "9c4766b1-48a9-456e-bc6c-4b6f41909aa4",
        "outputId": "3ff0073d-f3e4-4451-97fe-ab60357285a1"
      },
      "outputs": [
        {
          "output_type": "stream",
          "name": "stdout",
          "text": [
            "This is your SQL:\n",
            "```sql\n",
            "SELECT e.name\n",
            "FROM employees e\n",
            "JOIN studies s ON e.ID_usr = s.ID_usr\n",
            "WHERE s.educational_level = 'MBA';\n",
            "```\n",
            "\n",
            "This SQL query selects the names of employees who have an MBA degree by joining the \"employees\" table with the \"studies\" table on the ID_usr column and filtering the results to only include rows where the educational level is 'MBA'.\n"
          ]
        }
      ],
      "source": [
        "#old\n",
        "old_context_user = old_context.copy()\n",
        "print(return_CCRMSQL(\"Find employees who have an MBA degree\", old_context_user))"
      ]
    },
    {
      "cell_type": "markdown",
      "source": [
        "#Q2 with New Prompt"
      ],
      "metadata": {
        "id": "z5q1tLQ9AMMA"
      },
      "id": "z5q1tLQ9AMMA"
    },
    {
      "cell_type": "code",
      "execution_count": 13,
      "id": "38d8d370-0524-4a28-bd54-5e5cddb08e2c",
      "metadata": {
        "colab": {
          "base_uri": "https://localhost:8080/"
        },
        "id": "38d8d370-0524-4a28-bd54-5e5cddb08e2c",
        "outputId": "d08504fc-dbe2-44f8-e8d8-434351df8eaf"
      },
      "outputs": [
        {
          "output_type": "stream",
          "name": "stdout",
          "text": [
            "```sql\n",
            "SELECT employees.name \n",
            "FROM employees \n",
            "JOIN studies ON employees.ID_usr = studies.ID_usr \n",
            "WHERE studies.degree = 'MBA';\n",
            "```\n"
          ]
        }
      ],
      "source": [
        "#new\n",
        "context_user = context.copy()\n",
        "print(return_CCRMSQL(\"Find employees who have an MBA degree.\", context_user))"
      ]
    },
    {
      "cell_type": "markdown",
      "source": [
        "#**Q3: Show the employees' total compensation (base salary + bonus).**"
      ],
      "metadata": {
        "id": "rcLWR17ZBZP9"
      },
      "id": "rcLWR17ZBZP9"
    },
    {
      "cell_type": "markdown",
      "source": [
        "#Q3 with Old Prompt"
      ],
      "metadata": {
        "id": "tkMSVovFAeXt"
      },
      "id": "tkMSVovFAeXt"
    },
    {
      "cell_type": "code",
      "execution_count": 14,
      "id": "5aa318d4-dd9f-41db-8ff4-c1d87220f766",
      "metadata": {
        "colab": {
          "base_uri": "https://localhost:8080/"
        },
        "id": "5aa318d4-dd9f-41db-8ff4-c1d87220f766",
        "outputId": "708ff9b9-7274-4128-9745-45f047fad824"
      },
      "outputs": [
        {
          "output_type": "stream",
          "name": "stdout",
          "text": [
            "This is your SQL:\n",
            "```sql\n",
            "SELECT e.name, (s.salary + s.bonus) AS total_compensation\n",
            "FROM employees e\n",
            "JOIN salary s ON e.ID_usr = s.ID_usr;\n",
            "```\n",
            "\n",
            "This SQL query retrieves the names of employees and calculates their total compensation by adding their salary and bonus from the salary table. It uses a JOIN operation to match the employees' IDs between the employees and salary tables.\n"
          ]
        }
      ],
      "source": [
        "#old\n",
        "old_context_user = old_context.copy()\n",
        "print(return_CCRMSQL(\"Show the employees' total compensation (base salary + bonus).\", old_context_user))"
      ]
    },
    {
      "cell_type": "markdown",
      "source": [
        "#Q3 with New Prompt"
      ],
      "metadata": {
        "id": "irpTUgLzAnZ0"
      },
      "id": "irpTUgLzAnZ0"
    },
    {
      "cell_type": "code",
      "source": [
        "#new\n",
        "context_user = context.copy()\n",
        "print(return_CCRMSQL(\"Show the employees' total compensation (base salary + bonus).\", context_user))"
      ],
      "metadata": {
        "colab": {
          "base_uri": "https://localhost:8080/"
        },
        "id": "Kh_q5WDtAsTi",
        "outputId": "7e8d5e06-a715-4fac-e43b-aa34cb9bb8fe"
      },
      "id": "Kh_q5WDtAsTi",
      "execution_count": 15,
      "outputs": [
        {
          "output_type": "stream",
          "name": "stdout",
          "text": [
            "Sure! Here is the SQL query to show the employees' total compensation (base salary + bonus):\n",
            "\n",
            "```sql\n",
            "SELECT employees.name, (salary.base + salary.bonus) AS total_compensation \n",
            "FROM employees \n",
            "JOIN salary ON employees.ID_usr = salary.ID_usr;\n",
            "``` \n",
            "\n",
            "This query will display the names of employees along with their total compensation (base salary + bonus).\n"
          ]
        }
      ]
    },
    {
      "cell_type": "markdown",
      "source": [
        "#**Q4: Find all employees who joined after 2018 and have a bonus greater than 1000.**"
      ],
      "metadata": {
        "id": "LOSoQkVIBmJg"
      },
      "id": "LOSoQkVIBmJg"
    },
    {
      "cell_type": "markdown",
      "source": [
        "#Q4 with Old Prompt"
      ],
      "metadata": {
        "id": "8k-RBPnOAs6R"
      },
      "id": "8k-RBPnOAs6R"
    },
    {
      "cell_type": "code",
      "source": [
        "#old\n",
        "old_context_user = old_context.copy()\n",
        "print(return_CCRMSQL(\" Find all employees who joined after 2018 and have a bonus greater than 1000.\", old_context_user))"
      ],
      "metadata": {
        "colab": {
          "base_uri": "https://localhost:8080/"
        },
        "id": "CBx403IOAxI8",
        "outputId": "480e615e-1c0d-480a-e5e8-584bd4e56fa5"
      },
      "id": "CBx403IOAxI8",
      "execution_count": 16,
      "outputs": [
        {
          "output_type": "stream",
          "name": "stdout",
          "text": [
            "This is your SQL:\n",
            "```sql\n",
            "SELECT e.name\n",
            "FROM employees e\n",
            "JOIN salary s ON e.ID_usr = s.ID_usr\n",
            "WHERE s.year > '2018-01-01' AND s.salary > 1000;\n",
            "```\n",
            "\n",
            "This SQL query selects the names of employees who joined after 2018 and have a salary greater than 1000. It achieves this by joining the \"employees\" table with the \"salary\" table on the employee ID, then filtering the results to include only those with a salary date after January 1, 2018, and a salary greater than 1000.\n"
          ]
        }
      ]
    },
    {
      "cell_type": "markdown",
      "source": [
        "#Q4 with New Prompt"
      ],
      "metadata": {
        "id": "0R6eenLjA1Qw"
      },
      "id": "0R6eenLjA1Qw"
    },
    {
      "cell_type": "code",
      "source": [
        "#new\n",
        "context_user = context.copy()\n",
        "print(return_CCRMSQL(\"Find all employees who joined after 2018 and have a bonus greater than 1000.\", context_user))"
      ],
      "metadata": {
        "colab": {
          "base_uri": "https://localhost:8080/"
        },
        "id": "4GZGD-UyA9ZK",
        "outputId": "2bfe5ca7-2bf6-44b1-d6e5-be0abafcef77"
      },
      "id": "4GZGD-UyA9ZK",
      "execution_count": 17,
      "outputs": [
        {
          "output_type": "stream",
          "name": "stdout",
          "text": [
            "Here is the SQL query to find all employees who joined after 2018 and have a bonus greater than 1000:\n",
            "\n",
            "```sql\n",
            "SELECT employees.name \n",
            "FROM employees \n",
            "JOIN salary ON employees.ID_usr = salary.ID_usr \n",
            "WHERE employees.hire_date > '2018-01-01' AND salary.bonus > 1000;\n",
            "```\n"
          ]
        }
      ]
    },
    {
      "cell_type": "markdown",
      "source": [
        "#**Q5: List all employees and their major subjects from the studies table.**"
      ],
      "metadata": {
        "id": "JQBFmHH4Bs2I"
      },
      "id": "JQBFmHH4Bs2I"
    },
    {
      "cell_type": "markdown",
      "source": [
        "#Q5 with Old Prompt"
      ],
      "metadata": {
        "id": "hnJMOm1zBxFy"
      },
      "id": "hnJMOm1zBxFy"
    },
    {
      "cell_type": "code",
      "source": [
        "#old\n",
        "old_context_user = old_context.copy()\n",
        "print(return_CCRMSQL(\" List all employees and their major subjects from the studies table.\", old_context_user))"
      ],
      "metadata": {
        "colab": {
          "base_uri": "https://localhost:8080/"
        },
        "id": "Qx855oF5Bvv8",
        "outputId": "77e99037-0033-4c76-918a-649792bc8e64"
      },
      "id": "Qx855oF5Bvv8",
      "execution_count": 18,
      "outputs": [
        {
          "output_type": "stream",
          "name": "stdout",
          "text": [
            "This is your SQL:\n",
            "```sql\n",
            "SELECT employees.name, studies.Speciality\n",
            "FROM employees\n",
            "JOIN studies ON employees.ID_usr = studies.ID_usr;\n",
            "```\n",
            "\n",
            "This SQL query selects the names of employees and their major subjects from the studies table by performing an inner join between the employees and studies tables on the ID_usr column.\n"
          ]
        }
      ]
    },
    {
      "cell_type": "markdown",
      "source": [
        "# Q5 with New Prompt"
      ],
      "metadata": {
        "id": "X5IzkEMQBx8f"
      },
      "id": "X5IzkEMQBx8f"
    },
    {
      "cell_type": "code",
      "source": [
        "#new\n",
        "context_user = context.copy()\n",
        "print(return_CCRMSQL(\" List all employees and their major subjects from the studies table.\", context_user))"
      ],
      "metadata": {
        "colab": {
          "base_uri": "https://localhost:8080/"
        },
        "id": "WIZuA69ZBv7j",
        "outputId": "d64419f2-459a-4be2-97de-283c5788d591"
      },
      "id": "WIZuA69ZBv7j",
      "execution_count": 19,
      "outputs": [
        {
          "output_type": "stream",
          "name": "stdout",
          "text": [
            "Here is the SQL query to list all employees and their major subjects from the studies table:\n",
            "\n",
            "```sql\n",
            "SELECT employees.name, studies.major \n",
            "FROM employees \n",
            "JOIN studies ON employees.ID_usr = studies.ID_usr;\n",
            "```\n"
          ]
        }
      ]
    },
    {
      "cell_type": "markdown",
      "id": "0f31968e-74ad-4ae2-9537-b3d550b1be47",
      "metadata": {
        "id": "0f31968e-74ad-4ae2-9537-b3d550b1be47"
      },
      "source": [
        "# Exercise\n",
        " - Complete the prompts similar to what we did in class.\n",
        "     - Try at least 3 versions\n",
        "     - Be creative\n",
        " - Write a one page report summarizing your findings.\n",
        "     - Were there variations that didn't work well? i.e., where GPT either hallucinated or wrong.\n",
        "     - What did you learn?"
      ]
    },
    {
      "cell_type": "markdown",
      "source": [
        "### **Analysis and Evaluation of SQL Query Generation Using OpenAI API**\n",
        "\n",
        "#### **Overview**\n",
        "\n",
        "The task involved using two different versions of a prompt to generate SQL queries using GPT-based models. Both versions were tested with the same queries to compare the output and evaluate the accuracy of the generated SQL commands. The SQL queries were designed to retrieve information from a database containing employee records, salary details, and educational background, using the following tables: `employees`, `salary`, and `studies`.\n",
        "\n",
        "#### **Key Observations**\n",
        "\n",
        "1. **Prompt Version Differences**:\n",
        "   - **Old Prompt**: The old prompt was simpler, providing a basic table structure and brief instructions for generating SQL queries. It included limited field definitions in the `employees`, `salary`, and `studies` tables, with some minor inconsistencies in naming conventions.\n",
        "   - **New Prompt**: The new prompt is more detailed and accurate. It provides full table definitions with additional fields like `email`, `phone` in `employees`, and `major` in `studies`. It also provides precise `FOREIGN KEY` references and maintains the structure of the SQL database more accurately.\n",
        "\n",
        "2. **Query Generation Accuracy**:\n",
        "   - **Q1: Retrieve all employees and their base salary**:\n",
        "     - **Old Prompt**: Correctly retrieved employee names and salaries but used a slightly outdated reference (`salary.salary` instead of `salary.base`).\n",
        "     - **New Prompt**: Correctly retrieved employee names and base salaries using `salary.base`. This query was clear and efficient.\n",
        "     - **Conclusion**: The new prompt handled this task more accurately.\n",
        "   - **Q2: Find employees who have an MBA degree**:\n",
        "     - **Old Prompt**: The query referenced `s.educational_level = 'MBA'`, which was incorrect as the column name should have been `degree`.\n",
        "     - **New Prompt**: Correctly used `degree = 'MBA'` for filtering. This is consistent with the correct column name and the table structure.\n",
        "     - **Conclusion**: The new prompt generated the correct query, while the old prompt failed due to incorrect column references.\n",
        "   - **Q3: Show the employees' total compensation (base salary + bonus)**:\n",
        "     - **Old Prompt**: Correctly combined salary and bonus but used `s.salary + s.bonus` instead of the proper column name `base`.\n",
        "     - **New Prompt**: Correctly calculated total compensation with `salary.base + salary.bonus`.\n",
        "     - **Conclusion**: The new prompt provided the accurate SQL, with the old prompt being slightly off due to column name mismatches.\n",
        "   - **Q4: Find all employees who joined after 2018 and have a bonus greater than 1000**:\n",
        "     - **Old Prompt**: The query mistakenly used `s.salary > 1000` instead of checking the `bonus` column.\n",
        "     - **New Prompt**: Correctly filtered employees based on `hire_date` and `bonus > 1000`.\n",
        "     - **Conclusion**: The new prompt generated a more accurate query by using the correct conditions.\n",
        "   - **Q5: List all employees and their major subjects from the studies table**:\n",
        "     - **Old Prompt**: Correctly retrieved employees’ names and major subjects, but used `studies.Speciality` (which was not the right column).\n",
        "     - **New Prompt**: Correctly used `studies.major` to get the field of study.\n",
        "     - **Conclusion**: The new prompt was accurate in retrieving the `major` field.\n",
        "\n",
        "#### **Summary of Findings**\n",
        "\n",
        "- **Hallucinations and Errors**:\n",
        "  - The old prompt showed some issues with incorrect column names (`salary.salary` instead of `salary.base`, `educational_level` instead of `degree`, and `Speciality` instead of `major`). These errors are a result of vague and incomplete table definitions, leading to incorrect SQL queries.\n",
        "  - The new prompt performed better, generating correct SQL queries based on a more detailed and consistent schema. It utilized the right column names, tables, and references.\n",
        "- **Performance**:\n",
        "  - The new prompt produced more accurate results in each test case. The use of precise, well-defined schema led to SQL queries that were syntactically correct and logically sound.\n",
        "  - The old prompt, due to its incomplete and slightly ambiguous table definitions, resulted in several misfires, especially with column name mismatches.\n",
        "\n",
        "#### **Lessons Learned**\n",
        "\n",
        "1. **Importance of Detailed Schema**: The clarity and completeness of the table structure provided in the prompt directly affect the accuracy of the generated queries. Incomplete or inconsistent definitions can lead to SQL errors or incorrect results.\n",
        "2. **Consistent Naming Conventions**: Using consistent and accurate column names in both the schema and queries is crucial to avoid errors. Inaccurate or inconsistent column names, such as `Speciality` instead of `major`, can lead to faulty query generation.\n",
        "3. **Testing with Real-World Data**: Although the model was able to generate queries for the provided examples, it is important to test with real-world, complex databases to identify edge cases and ensure robustness.\n",
        "\n",
        "#### **Conclusion**\n",
        "\n",
        "The new prompt, with its more detailed schema and consistent naming conventions, outperforms the old prompt by generating more accurate and syntactically correct SQL queries. For future use, it is essential to provide a well-defined and complete schema to ensure the model generates optimal queries."
      ],
      "metadata": {
        "id": "oaaKvuDRMj9S"
      },
      "id": "oaaKvuDRMj9S"
    }
  ],
  "metadata": {
    "colab": {
      "provenance": []
    },
    "kernelspec": {
      "display_name": "Python 3 (ipykernel)",
      "language": "python",
      "name": "python3"
    },
    "language_info": {
      "codemirror_mode": {
        "name": "ipython",
        "version": 3
      },
      "file_extension": ".py",
      "mimetype": "text/x-python",
      "name": "python",
      "nbconvert_exporter": "python",
      "pygments_lexer": "ipython3",
      "version": "3.11.8"
    }
  },
  "nbformat": 4,
  "nbformat_minor": 5
}